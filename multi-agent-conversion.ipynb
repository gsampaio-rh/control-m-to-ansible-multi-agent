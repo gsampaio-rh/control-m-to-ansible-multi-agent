{
 "cells": [
  {
   "cell_type": "code",
   "execution_count": 392,
   "metadata": {},
   "outputs": [
    {
     "name": "stdout",
     "output_type": "stream",
     "text": [
      "Requirement already satisfied: requests in ./.conda/lib/python3.11/site-packages (2.32.3)\n",
      "Requirement already satisfied: jsonschema in ./.conda/lib/python3.11/site-packages (4.23.0)\n",
      "Requirement already satisfied: tenacity in ./.conda/lib/python3.11/site-packages (8.5.0)\n",
      "Requirement already satisfied: langgraph in ./.conda/lib/python3.11/site-packages (0.2.27)\n",
      "Requirement already satisfied: langgraph.checkpoint.sqlite in ./.conda/lib/python3.11/site-packages (1.0.4)\n",
      "Requirement already satisfied: termcolor in ./.conda/lib/python3.11/site-packages (2.4.0)\n",
      "Requirement already satisfied: charset-normalizer<4,>=2 in ./.conda/lib/python3.11/site-packages (from requests) (3.3.2)\n",
      "Requirement already satisfied: idna<4,>=2.5 in ./.conda/lib/python3.11/site-packages (from requests) (3.10)\n",
      "Requirement already satisfied: urllib3<3,>=1.21.1 in ./.conda/lib/python3.11/site-packages (from requests) (2.2.3)\n",
      "Requirement already satisfied: certifi>=2017.4.17 in ./.conda/lib/python3.11/site-packages (from requests) (2024.8.30)\n",
      "Requirement already satisfied: attrs>=22.2.0 in ./.conda/lib/python3.11/site-packages (from jsonschema) (24.2.0)\n",
      "Requirement already satisfied: jsonschema-specifications>=2023.03.6 in ./.conda/lib/python3.11/site-packages (from jsonschema) (2023.12.1)\n",
      "Requirement already satisfied: referencing>=0.28.4 in ./.conda/lib/python3.11/site-packages (from jsonschema) (0.35.1)\n",
      "Requirement already satisfied: rpds-py>=0.7.1 in ./.conda/lib/python3.11/site-packages (from jsonschema) (0.20.0)\n",
      "Requirement already satisfied: langchain-core<0.4,>=0.2.39 in ./.conda/lib/python3.11/site-packages (from langgraph) (0.3.5)\n",
      "Requirement already satisfied: langgraph-checkpoint<2.0.0,>=1.0.2 in ./.conda/lib/python3.11/site-packages (from langgraph) (1.0.11)\n",
      "Requirement already satisfied: aiosqlite<0.21.0,>=0.20.0 in ./.conda/lib/python3.11/site-packages (from langgraph.checkpoint.sqlite) (0.20.0)\n",
      "Requirement already satisfied: typing_extensions>=4.0 in ./.conda/lib/python3.11/site-packages (from aiosqlite<0.21.0,>=0.20.0->langgraph.checkpoint.sqlite) (4.12.2)\n",
      "Requirement already satisfied: PyYAML>=5.3 in ./.conda/lib/python3.11/site-packages (from langchain-core<0.4,>=0.2.39->langgraph) (6.0.2)\n",
      "Requirement already satisfied: jsonpatch<2.0,>=1.33 in ./.conda/lib/python3.11/site-packages (from langchain-core<0.4,>=0.2.39->langgraph) (1.33)\n",
      "Requirement already satisfied: langsmith<0.2.0,>=0.1.125 in ./.conda/lib/python3.11/site-packages (from langchain-core<0.4,>=0.2.39->langgraph) (0.1.128)\n",
      "Requirement already satisfied: packaging<25,>=23.2 in ./.conda/lib/python3.11/site-packages (from langchain-core<0.4,>=0.2.39->langgraph) (24.1)\n",
      "Requirement already satisfied: pydantic<3.0.0,>=2.5.2 in ./.conda/lib/python3.11/site-packages (from langchain-core<0.4,>=0.2.39->langgraph) (2.9.2)\n",
      "Requirement already satisfied: msgpack<2.0.0,>=1.1.0 in ./.conda/lib/python3.11/site-packages (from langgraph-checkpoint<2.0.0,>=1.0.2->langgraph) (1.1.0)\n",
      "Requirement already satisfied: jsonpointer>=1.9 in ./.conda/lib/python3.11/site-packages (from jsonpatch<2.0,>=1.33->langchain-core<0.4,>=0.2.39->langgraph) (3.0.0)\n",
      "Requirement already satisfied: httpx<1,>=0.23.0 in ./.conda/lib/python3.11/site-packages (from langsmith<0.2.0,>=0.1.125->langchain-core<0.4,>=0.2.39->langgraph) (0.27.2)\n",
      "Requirement already satisfied: orjson<4.0.0,>=3.9.14 in ./.conda/lib/python3.11/site-packages (from langsmith<0.2.0,>=0.1.125->langchain-core<0.4,>=0.2.39->langgraph) (3.10.7)\n",
      "Requirement already satisfied: annotated-types>=0.6.0 in ./.conda/lib/python3.11/site-packages (from pydantic<3.0.0,>=2.5.2->langchain-core<0.4,>=0.2.39->langgraph) (0.7.0)\n",
      "Requirement already satisfied: pydantic-core==2.23.4 in ./.conda/lib/python3.11/site-packages (from pydantic<3.0.0,>=2.5.2->langchain-core<0.4,>=0.2.39->langgraph) (2.23.4)\n",
      "Requirement already satisfied: anyio in ./.conda/lib/python3.11/site-packages (from httpx<1,>=0.23.0->langsmith<0.2.0,>=0.1.125->langchain-core<0.4,>=0.2.39->langgraph) (4.6.0)\n",
      "Requirement already satisfied: httpcore==1.* in ./.conda/lib/python3.11/site-packages (from httpx<1,>=0.23.0->langsmith<0.2.0,>=0.1.125->langchain-core<0.4,>=0.2.39->langgraph) (1.0.5)\n",
      "Requirement already satisfied: sniffio in ./.conda/lib/python3.11/site-packages (from httpx<1,>=0.23.0->langsmith<0.2.0,>=0.1.125->langchain-core<0.4,>=0.2.39->langgraph) (1.3.1)\n",
      "Requirement already satisfied: h11<0.15,>=0.13 in ./.conda/lib/python3.11/site-packages (from httpcore==1.*->httpx<1,>=0.23.0->langsmith<0.2.0,>=0.1.125->langchain-core<0.4,>=0.2.39->langgraph) (0.14.0)\n",
      "Note: you may need to restart the kernel to use updated packages.\n"
     ]
    }
   ],
   "source": [
    "%pip install requests jsonschema tenacity langgraph langgraph.checkpoint.sqlite termcolor"
   ]
  },
  {
   "cell_type": "code",
   "execution_count": 393,
   "metadata": {},
   "outputs": [],
   "source": [
    "from services.model_service import ModelService\n",
    "\n",
    "# Initialize the service with the model configuration\n",
    "ollama_service = ModelService(model=\"llama3.1:latest\")"
   ]
  },
  {
   "cell_type": "code",
   "execution_count": 394,
   "metadata": {},
   "outputs": [],
   "source": [
    "from langgraph.graph.message import add_messages\n",
    "from typing import Annotated, TypedDict, Any\n",
    "\n",
    "class MultiAgentGraphState(TypedDict):\n",
    "    job: str\n",
    "    playbook: Annotated[list, add_messages]\n",
    "    feedback: Annotated[list, add_messages]"
   ]
  },
  {
   "cell_type": "code",
   "execution_count": 395,
   "metadata": {},
   "outputs": [],
   "source": [
    "controlm_job = \"\"\"\n",
    "\"JobName\": {\n",
    "    \"Type\" : \"Job:Command\",\n",
    "    \"Command\" : \"echo hello\",\n",
    "    \"PreCommand\": \"echo before running main command\",\n",
    "    \"PostCommand\": \"echo after running main command\",\n",
    "    \"Host\" : \"myhost.mycomp.com\",\n",
    "    \"RunAs\" : \"user1\"  \n",
    "}\n",
    "\"\"\""
   ]
  },
  {
   "cell_type": "code",
   "execution_count": 396,
   "metadata": {},
   "outputs": [],
   "source": [
    "from agent.role_agent import RoleAgent\n",
    "from prompt.convert_prompt import DEFAULT_SYS_DEV_PROMPT\n",
    "import yaml\n",
    "import json\n",
    "\n",
    "def convert_agent(user_req: str, feedback: str = \"\"):\n",
    "    convert_agent = RoleAgent(\n",
    "        role=\"CONVERT_AGENT\",\n",
    "        ollama_service=ollama_service,\n",
    "        sys_prompt=DEFAULT_SYS_DEV_PROMPT.format(\n",
    "            feedback=feedback,\n",
    "            datetime=get_current_utc_datetime(),\n",
    "        ),\n",
    "    )\n",
    "    \n",
    "    response = convert_agent.work(user_request=user_req)\n",
    "\n",
    "    playbook_json = json.loads(response[\"CONVERT_AGENT_response\"].content)\n",
    "\n",
    "    playbook_yaml = yaml.dump(playbook_json, default_flow_style=False)\n",
    "    return {\"playbook\": playbook_yaml}"
   ]
  },
  {
   "cell_type": "code",
   "execution_count": 397,
   "metadata": {},
   "outputs": [],
   "source": [
    "from prompt.review_prompt import DEFAULT_SYS_REVIEW_PROMPT\n",
    "from utils.general.helpers import get_current_utc_datetime\n",
    "\n",
    "def reviewer_agent(controlm_job: str, playbook_yaml: str):\n",
    "    reviewer_agent = RoleAgent(\n",
    "        role=\"REVIEWER_AGENT\",\n",
    "        ollama_service=ollama_service,\n",
    "        sys_prompt=DEFAULT_SYS_REVIEW_PROMPT.format(\n",
    "            controlm_job=controlm_job,\n",
    "            datetime=get_current_utc_datetime(),\n",
    "        ),\n",
    "    )\n",
    "\n",
    "    reviewer_req = f\"\"\"Validate this playbook: {playbook_yaml}\"\"\"\n",
    "\n",
    "    response = reviewer_agent.work(user_request=reviewer_req)\n",
    "\n",
    "    revision_json = json.loads(response[\"REVIEWER_AGENT_response\"].content)\n",
    "\n",
    "    return {\"feedback\": json.dumps(revision_json, indent=4)}"
   ]
  },
  {
   "cell_type": "code",
   "execution_count": 398,
   "metadata": {},
   "outputs": [],
   "source": [
    "from langgraph.graph import END\n",
    "\n",
    "def should_continue(state: MultiAgentGraphState):\n",
    "    \n",
    "    feedback_dict = json.loads(state[\"feedback\"][-1].content)\n",
    "    status = feedback_dict[\"status\"]\n",
    "\n",
    "    if status == \"valid\":\n",
    "        return END\n",
    "    else:\n",
    "        return \"convert_job\""
   ]
  },
  {
   "cell_type": "code",
   "execution_count": 399,
   "metadata": {},
   "outputs": [],
   "source": [
    "from langgraph.graph import StateGraph, START, END\n",
    "\n",
    "\n",
    "def create_graph() -> StateGraph:\n",
    "    graph = StateGraph(MultiAgentGraphState)\n",
    "\n",
    "    graph.add_node(\n",
    "        \"convert_job\",\n",
    "        lambda state: convert_agent(\n",
    "            user_req=f\"\"\"Convert this Control-M Job to an Ansible playbook. {state['job']}\"\"\",\n",
    "            feedback=state[\"feedback\"][-1].content if state[\"feedback\"] else None,\n",
    "        ),\n",
    "    )\n",
    "\n",
    "    graph.add_node(\n",
    "        \"review_playbook\",\n",
    "        lambda state: reviewer_agent(\n",
    "            controlm_job={state[\"job\"]},\n",
    "            playbook_yaml={state[\"playbook\"][-1].content},\n",
    "        ),\n",
    "    )\n",
    "\n",
    "    # Define the flow of the graph\n",
    "    graph.add_edge(START, \"convert_job\")\n",
    "    graph.add_edge(\"convert_job\", \"review_playbook\")\n",
    "    graph.add_conditional_edges(\n",
    "        \"review_playbook\", should_continue, [\"convert_job\", END]\n",
    "    )\n",
    "\n",
    "    return graph"
   ]
  },
  {
   "cell_type": "code",
   "execution_count": 400,
   "metadata": {},
   "outputs": [
    {
     "name": "stdout",
     "output_type": "stream",
     "text": [
      "Graph and workflow created.\n"
     ]
    }
   ],
   "source": [
    "from memory.sqlite_saver import initialize_memory\n",
    "\n",
    "memory = initialize_memory(\":memory:\")\n",
    "\n",
    "config = {\"configurable\": {\"thread_id\": \"1\"}}\n",
    "dict_inputs = {\"job\": controlm_job}\n",
    "\n",
    "# Create the graph and compile the workflow\n",
    "graph = create_graph()\n",
    "workflow = graph.compile(checkpointer=memory)\n",
    "print(\"Graph and workflow created.\")"
   ]
  },
  {
   "cell_type": "code",
   "execution_count": 401,
   "metadata": {},
   "outputs": [
    {
     "name": "stdout",
     "output_type": "stream",
     "text": [
      "\u001b[34m\n",
      "\"JobName\": {\n",
      "    \"Type\" : \"Job:Command\",\n",
      "    \"Command\" : \"echo hello\",\n",
      "    \"PreCommand\": \"echo before running main command\",\n",
      "    \"PostCommand\": \"echo after running main command\",\n",
      "    \"Host\" : \"myhost.mycomp.com\",\n",
      "    \"RunAs\" : \"user1\"  \n",
      "}\n",
      "\u001b[0m\n"
     ]
    },
    {
     "name": "stdout",
     "output_type": "stream",
     "text": [
      "\u001b[33mcommand: echo hello\n",
      "environment_variables: {}\n",
      "job_name: JobName\n",
      "retry: {}\n",
      "schedules: {}\n",
      "\u001b[0m\n",
      "\u001b[31m{\n",
      "    \"status\": \"not valid\",\n",
      "    \"comments\": \"The Control-M Job JSON was successfully converted to Ansible Playbook, but with some missing fields.\",\n",
      "    \"improvements\": [\n",
      "        \"The Ansible playbook seems mostly complete. However, the `schedules` field is empty. The Control-M job likely has a schedule (e.g., time, frequency), which should be represented in the Ansible playbook using the `cron` module or another scheduling mechanism.\",\n",
      "        \"Ensure that environment variables from the Control-M job are correctly included in the playbook. The `environment_variables` dictionary in the Control-M JSON is currently empty.\"\n",
      "    ]\n",
      "}\u001b[0m\n",
      "\u001b[33mjob_name:\n",
      "  command: echo hello\n",
      "  host: myhost.mycomp.com\n",
      "  post_command: echo after running main command\n",
      "  pre_command: echo before running main command\n",
      "  run_as: user1\n",
      "  type: Job:Command\n",
      "\u001b[0m\n",
      "\u001b[32m{\n",
      "    \"status\": \"valid\",\n",
      "    \"comments\": \"The Control-M job has been successfully converted into an Ansible playbook.\",\n",
      "    \"improvements\": []\n",
      "}\u001b[0m\n"
     ]
    }
   ],
   "source": [
    "from termcolor import colored\n",
    "\n",
    "# Define workflow parameters\n",
    "iterations = 10\n",
    "verbose = True\n",
    "\n",
    "limit = {\"recursion_limit\": iterations}\n",
    "\n",
    "print(colored(controlm_job,\"blue\"))\n",
    "\n",
    "# Execute the workflow and print state changes\n",
    "for event in workflow.stream(dict_inputs, config):\n",
    "    if verbose:\n",
    "        if \"convert_job\" in event:\n",
    "            print(colored(event[\"convert_job\"][\"playbook\"], \"yellow\"))\n",
    "        elif \"review_playbook\" in event:\n",
    "            dict = json.loads(event[\"review_playbook\"][\"feedback\"])\n",
    "            if(dict[\"status\"] == \"valid\"):\n",
    "                print(colored(event[\"review_playbook\"][\"feedback\"], \"green\"))\n",
    "            else:\n",
    "                print(colored(event[\"review_playbook\"][\"feedback\"], \"red\"))\n",
    "    else:\n",
    "        print(\"\\n\")"
   ]
  }
 ],
 "metadata": {
  "kernelspec": {
   "display_name": "Python 3",
   "language": "python",
   "name": "python3"
  },
  "language_info": {
   "codemirror_mode": {
    "name": "ipython",
    "version": 3
   },
   "file_extension": ".py",
   "mimetype": "text/x-python",
   "name": "python",
   "nbconvert_exporter": "python",
   "pygments_lexer": "ipython3",
   "version": "3.11.9"
  }
 },
 "nbformat": 4,
 "nbformat_minor": 2
}
