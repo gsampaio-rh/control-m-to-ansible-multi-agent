{
 "cells": [
  {
   "cell_type": "markdown",
   "metadata": {},
   "source": [
    "# Multi-Agent Workflow for Control-M Job Conversion to Ansible Playbook\n",
    "\n",
    "This notebook demonstrates an automated multi-agent workflow that converts a Control-M job definition into an Ansible playbook. The workflow also performs linting, review, and validation of the generated playbook using multiple agents, ensuring it follows best practices. The process includes:\n",
    "\n",
    "1. **Job Conversion**: A Control-M job is converted into an Ansible playbook format.\n",
    "2. **Playbook Linting**: The playbook is checked for errors and inconsistencies using `ansible-lint`.\n",
    "3. **Playbook Review**: The playbook is reviewed and validated based on the original Control-M job.\n",
    "4. **Feedback Loop**: If the playbook fails the review, the workflow attempts to adjust and reconvert the job until it passes validation or reaches a defined limit of iterations.\n",
    "\n",
    "This notebook leverages `langgraph`, `RoleAgent`, and a multi-agent state graph to orchestrate the entire process, providing an efficient method to convert and validate automation jobs in a scalable and repeatable manner."
   ]
  },
  {
   "cell_type": "markdown",
   "metadata": {},
   "source": [
    "## 1. Install Required Dependencies\n",
    "\n",
    "Installs all the necessary libraries to handle HTTP requests, schema validation, error handling, graph management, and terminal color output."
   ]
  },
  {
   "cell_type": "code",
   "execution_count": 122,
   "metadata": {},
   "outputs": [
    {
     "name": "stdout",
     "output_type": "stream",
     "text": [
      "Requirement already satisfied: requests in ./.conda/lib/python3.11/site-packages (2.32.3)\n",
      "Requirement already satisfied: jsonschema in ./.conda/lib/python3.11/site-packages (4.23.0)\n",
      "Requirement already satisfied: tenacity in ./.conda/lib/python3.11/site-packages (8.5.0)\n",
      "Requirement already satisfied: langgraph in ./.conda/lib/python3.11/site-packages (0.2.27)\n",
      "Requirement already satisfied: langgraph.checkpoint.sqlite in ./.conda/lib/python3.11/site-packages (1.0.4)\n",
      "Requirement already satisfied: termcolor in ./.conda/lib/python3.11/site-packages (2.4.0)\n",
      "Requirement already satisfied: ansible-lint in ./.conda/lib/python3.11/site-packages (24.9.2)\n",
      "Requirement already satisfied: charset-normalizer<4,>=2 in ./.conda/lib/python3.11/site-packages (from requests) (3.3.2)\n",
      "Requirement already satisfied: idna<4,>=2.5 in ./.conda/lib/python3.11/site-packages (from requests) (3.10)\n",
      "Requirement already satisfied: urllib3<3,>=1.21.1 in ./.conda/lib/python3.11/site-packages (from requests) (2.2.3)\n",
      "Requirement already satisfied: certifi>=2017.4.17 in ./.conda/lib/python3.11/site-packages (from requests) (2024.8.30)\n",
      "Requirement already satisfied: attrs>=22.2.0 in ./.conda/lib/python3.11/site-packages (from jsonschema) (24.2.0)\n",
      "Requirement already satisfied: jsonschema-specifications>=2023.03.6 in ./.conda/lib/python3.11/site-packages (from jsonschema) (2023.12.1)\n",
      "Requirement already satisfied: referencing>=0.28.4 in ./.conda/lib/python3.11/site-packages (from jsonschema) (0.35.1)\n",
      "Requirement already satisfied: rpds-py>=0.7.1 in ./.conda/lib/python3.11/site-packages (from jsonschema) (0.20.0)\n",
      "Requirement already satisfied: langchain-core<0.4,>=0.2.39 in ./.conda/lib/python3.11/site-packages (from langgraph) (0.3.5)\n",
      "Requirement already satisfied: langgraph-checkpoint<2.0.0,>=1.0.2 in ./.conda/lib/python3.11/site-packages (from langgraph) (1.0.11)\n",
      "Requirement already satisfied: aiosqlite<0.21.0,>=0.20.0 in ./.conda/lib/python3.11/site-packages (from langgraph.checkpoint.sqlite) (0.20.0)\n",
      "Requirement already satisfied: ansible-core>=2.13.0 in ./.conda/lib/python3.11/site-packages (from ansible-lint) (2.17.4)\n",
      "Requirement already satisfied: ansible-compat>=24.9.1 in ./.conda/lib/python3.11/site-packages (from ansible-lint) (24.9.1)\n",
      "Requirement already satisfied: black>=24.3.0 in ./.conda/lib/python3.11/site-packages (from ansible-lint) (24.8.0)\n",
      "Requirement already satisfied: filelock>=3.3.0 in ./.conda/lib/python3.11/site-packages (from ansible-lint) (3.16.1)\n",
      "Requirement already satisfied: importlib-metadata in ./.conda/lib/python3.11/site-packages (from ansible-lint) (8.5.0)\n",
      "Requirement already satisfied: packaging>=21.3 in ./.conda/lib/python3.11/site-packages (from ansible-lint) (24.1)\n",
      "Requirement already satisfied: pathspec>=0.10.3 in ./.conda/lib/python3.11/site-packages (from ansible-lint) (0.12.1)\n",
      "Requirement already satisfied: pyyaml>=5.4.1 in ./.conda/lib/python3.11/site-packages (from ansible-lint) (6.0.2)\n",
      "Requirement already satisfied: rich>=12.0.0 in ./.conda/lib/python3.11/site-packages (from ansible-lint) (13.8.1)\n",
      "Requirement already satisfied: ruamel.yaml>=0.18.5 in ./.conda/lib/python3.11/site-packages (from ansible-lint) (0.18.6)\n",
      "Requirement already satisfied: subprocess-tee>=0.4.1 in ./.conda/lib/python3.11/site-packages (from ansible-lint) (0.4.2)\n",
      "Requirement already satisfied: yamllint>=1.30.0 in ./.conda/lib/python3.11/site-packages (from ansible-lint) (1.35.1)\n",
      "Requirement already satisfied: wcmatch>=8.1.2 in ./.conda/lib/python3.11/site-packages (from ansible-lint) (9.0)\n",
      "Requirement already satisfied: typing_extensions>=4.0 in ./.conda/lib/python3.11/site-packages (from aiosqlite<0.21.0,>=0.20.0->langgraph.checkpoint.sqlite) (4.12.2)\n",
      "Requirement already satisfied: jinja2>=3.0.0 in ./.conda/lib/python3.11/site-packages (from ansible-core>=2.13.0->ansible-lint) (3.1.4)\n",
      "Requirement already satisfied: cryptography in ./.conda/lib/python3.11/site-packages (from ansible-core>=2.13.0->ansible-lint) (43.0.1)\n",
      "Requirement already satisfied: resolvelib<1.1.0,>=0.5.3 in ./.conda/lib/python3.11/site-packages (from ansible-core>=2.13.0->ansible-lint) (1.0.1)\n",
      "Requirement already satisfied: click>=8.0.0 in ./.conda/lib/python3.11/site-packages (from black>=24.3.0->ansible-lint) (8.1.7)\n",
      "Requirement already satisfied: mypy-extensions>=0.4.3 in ./.conda/lib/python3.11/site-packages (from black>=24.3.0->ansible-lint) (1.0.0)\n",
      "Requirement already satisfied: platformdirs>=2 in ./.conda/lib/python3.11/site-packages (from black>=24.3.0->ansible-lint) (4.3.6)\n",
      "Requirement already satisfied: jsonpatch<2.0,>=1.33 in ./.conda/lib/python3.11/site-packages (from langchain-core<0.4,>=0.2.39->langgraph) (1.33)\n",
      "Requirement already satisfied: langsmith<0.2.0,>=0.1.125 in ./.conda/lib/python3.11/site-packages (from langchain-core<0.4,>=0.2.39->langgraph) (0.1.128)\n",
      "Requirement already satisfied: pydantic<3.0.0,>=2.5.2 in ./.conda/lib/python3.11/site-packages (from langchain-core<0.4,>=0.2.39->langgraph) (2.9.2)\n",
      "Requirement already satisfied: msgpack<2.0.0,>=1.1.0 in ./.conda/lib/python3.11/site-packages (from langgraph-checkpoint<2.0.0,>=1.0.2->langgraph) (1.1.0)\n",
      "Requirement already satisfied: markdown-it-py>=2.2.0 in ./.conda/lib/python3.11/site-packages (from rich>=12.0.0->ansible-lint) (3.0.0)\n",
      "Requirement already satisfied: pygments<3.0.0,>=2.13.0 in ./.conda/lib/python3.11/site-packages (from rich>=12.0.0->ansible-lint) (2.18.0)\n",
      "Requirement already satisfied: ruamel.yaml.clib>=0.2.7 in ./.conda/lib/python3.11/site-packages (from ruamel.yaml>=0.18.5->ansible-lint) (0.2.8)\n",
      "Requirement already satisfied: bracex>=2.1.1 in ./.conda/lib/python3.11/site-packages (from wcmatch>=8.1.2->ansible-lint) (2.5)\n",
      "Requirement already satisfied: zipp>=3.20 in ./.conda/lib/python3.11/site-packages (from importlib-metadata->ansible-lint) (3.20.2)\n",
      "Requirement already satisfied: MarkupSafe>=2.0 in ./.conda/lib/python3.11/site-packages (from jinja2>=3.0.0->ansible-core>=2.13.0->ansible-lint) (2.1.5)\n",
      "Requirement already satisfied: jsonpointer>=1.9 in ./.conda/lib/python3.11/site-packages (from jsonpatch<2.0,>=1.33->langchain-core<0.4,>=0.2.39->langgraph) (3.0.0)\n",
      "Requirement already satisfied: httpx<1,>=0.23.0 in ./.conda/lib/python3.11/site-packages (from langsmith<0.2.0,>=0.1.125->langchain-core<0.4,>=0.2.39->langgraph) (0.27.2)\n",
      "Requirement already satisfied: orjson<4.0.0,>=3.9.14 in ./.conda/lib/python3.11/site-packages (from langsmith<0.2.0,>=0.1.125->langchain-core<0.4,>=0.2.39->langgraph) (3.10.7)\n",
      "Requirement already satisfied: mdurl~=0.1 in ./.conda/lib/python3.11/site-packages (from markdown-it-py>=2.2.0->rich>=12.0.0->ansible-lint) (0.1.2)\n",
      "Requirement already satisfied: annotated-types>=0.6.0 in ./.conda/lib/python3.11/site-packages (from pydantic<3.0.0,>=2.5.2->langchain-core<0.4,>=0.2.39->langgraph) (0.7.0)\n",
      "Requirement already satisfied: pydantic-core==2.23.4 in ./.conda/lib/python3.11/site-packages (from pydantic<3.0.0,>=2.5.2->langchain-core<0.4,>=0.2.39->langgraph) (2.23.4)\n",
      "Requirement already satisfied: cffi>=1.12 in ./.conda/lib/python3.11/site-packages (from cryptography->ansible-core>=2.13.0->ansible-lint) (1.17.1)\n",
      "Requirement already satisfied: pycparser in ./.conda/lib/python3.11/site-packages (from cffi>=1.12->cryptography->ansible-core>=2.13.0->ansible-lint) (2.22)\n",
      "Requirement already satisfied: anyio in ./.conda/lib/python3.11/site-packages (from httpx<1,>=0.23.0->langsmith<0.2.0,>=0.1.125->langchain-core<0.4,>=0.2.39->langgraph) (4.6.0)\n",
      "Requirement already satisfied: httpcore==1.* in ./.conda/lib/python3.11/site-packages (from httpx<1,>=0.23.0->langsmith<0.2.0,>=0.1.125->langchain-core<0.4,>=0.2.39->langgraph) (1.0.5)\n",
      "Requirement already satisfied: sniffio in ./.conda/lib/python3.11/site-packages (from httpx<1,>=0.23.0->langsmith<0.2.0,>=0.1.125->langchain-core<0.4,>=0.2.39->langgraph) (1.3.1)\n",
      "Requirement already satisfied: h11<0.15,>=0.13 in ./.conda/lib/python3.11/site-packages (from httpcore==1.*->httpx<1,>=0.23.0->langsmith<0.2.0,>=0.1.125->langchain-core<0.4,>=0.2.39->langgraph) (0.14.0)\n",
      "Note: you may need to restart the kernel to use updated packages.\n"
     ]
    }
   ],
   "source": [
    "%pip install requests jsonschema tenacity langgraph langgraph.checkpoint.sqlite termcolor ansible-lint"
   ]
  },
  {
   "cell_type": "markdown",
   "metadata": {},
   "source": [
    "## 2. Initialize the Model Service\n",
    "\n",
    "This initializes a model service, using the latest version of \"llama3.1\" to manage AI-driven tasks."
   ]
  },
  {
   "cell_type": "code",
   "execution_count": 123,
   "metadata": {},
   "outputs": [],
   "source": [
    "from services.model_service import ModelService\n",
    "\n",
    "# Initialize the service with the model configuration\n",
    "ollama_service = ModelService(model=\"llama3.1:latest\")"
   ]
  },
  {
   "cell_type": "markdown",
   "metadata": {},
   "source": [
    "## 3. Define Graph State for Multi-Agent Workflow\n",
    "\n",
    "Defines the structure of the state that tracks job, playbook, linting results, and feedback for the workflow using type annotations."
   ]
  },
  {
   "cell_type": "code",
   "execution_count": 124,
   "metadata": {},
   "outputs": [],
   "source": [
    "from langgraph.graph.message import add_messages\n",
    "from typing import Annotated, TypedDict, Any\n",
    "\n",
    "class MultiAgentGraphState(TypedDict):\n",
    "    job: str\n",
    "    playbook: Annotated[list, add_messages]\n",
    "    lint: Annotated[list, add_messages]\n",
    "    feedback: Annotated[list, add_messages]"
   ]
  },
  {
   "cell_type": "markdown",
   "metadata": {},
   "source": [
    "## 4. Example Control-M Job\n",
    "\n",
    "This is an example of a Control-M job configuration, which includes commands and execution settings.\n"
   ]
  },
  {
   "cell_type": "code",
   "execution_count": 125,
   "metadata": {},
   "outputs": [],
   "source": [
    "controlm_job = \"\"\"\n",
    "\"JobName\": {\n",
    "    \"Type\" : \"Job:Command\",\n",
    "    \"Command\" : \"echo hello\",\n",
    "    \"PreCommand\": \"echo before running main command\",\n",
    "    \"PostCommand\": \"echo after running main command\",\n",
    "    \"Host\" : \"myhost.mycomp.com\",\n",
    "    \"RunAs\" : \"user1\"  \n",
    "}\n",
    "\"\"\""
   ]
  },
  {
   "cell_type": "markdown",
   "metadata": {},
   "source": [
    "## 5. Convert Control-M Job to Playbook\n",
    "\n",
    "Converts the Control-M job into an Ansible playbook using the `convert_agent`. The playbook is formatted as YAML and saved locally."
   ]
  },
  {
   "cell_type": "code",
   "execution_count": 126,
   "metadata": {},
   "outputs": [],
   "source": [
    "from agent.role_agent import RoleAgent\n",
    "from prompt.convert_prompt import DEFAULT_SYS_DEV_PROMPT\n",
    "import yaml\n",
    "import json\n",
    "import os\n",
    "\n",
    "def convert_agent(user_req: str, feedback: str = \"\"):\n",
    "    convert_agent = RoleAgent(\n",
    "        role=\"CONVERT_AGENT\",\n",
    "        ollama_service=ollama_service,\n",
    "        sys_prompt=DEFAULT_SYS_DEV_PROMPT.format(\n",
    "            feedback=feedback,\n",
    "            datetime=get_current_utc_datetime(),\n",
    "        ),\n",
    "    )\n",
    "\n",
    "    response = convert_agent.work(user_request=user_req)\n",
    "\n",
    "    playbook_json = json.loads(response[\"CONVERT_AGENT_response\"].content)\n",
    "\n",
    "    # Ensure the playbook is in an array format\n",
    "    playbook_json_in_array = [playbook_json]  # Wrap the playbook in an array   \n",
    "\n",
    "    playbook_yaml = yaml.dump(\n",
    "        playbook_json_in_array,\n",
    "        default_flow_style=False,  # Preserves block-style formatting\n",
    "        indent=2,  # Sets the indentation level to 2 spaces\n",
    "        width=80,  # Sets the max line width (optional)\n",
    "        allow_unicode=True,  # Handles special characters properly\n",
    "    )\n",
    "\n",
    "    # Save the YAML to data/playbook.yaml\n",
    "    playbook_path = \"data/playbook.yaml\"\n",
    "    os.makedirs(\n",
    "        os.path.dirname(playbook_path), exist_ok=True\n",
    "    )  # Create the directory if it doesn't exist\n",
    "    with open(playbook_path, \"w\") as file:\n",
    "        file.write(playbook_yaml)\n",
    "    return {\"playbook\": playbook_yaml}"
   ]
  },
  {
   "cell_type": "markdown",
   "metadata": {},
   "source": [
    "## 6. Lint the Ansible Playbook\n",
    "\n",
    "Runs `ansible-lint` on the generated playbook to ensure it meets Ansible best practices. Outputs the results."
   ]
  },
  {
   "cell_type": "code",
   "execution_count": 127,
   "metadata": {},
   "outputs": [],
   "source": [
    "import subprocess\n",
    "\n",
    "def ansible_lint(state: dict):\n",
    "    # Run the ansible-lint command and capture its output\n",
    "    result = subprocess.run(\n",
    "        [\"ansible-lint\", \"data/playbook.yaml\"], capture_output=True, text=True\n",
    "    )\n",
    "    \n",
    "    # Print the standard output and standard error\n",
    "    print(\"Standard Output:\")\n",
    "    print(result.stdout)\n",
    "\n",
    "    print(\"\\nStandard Error:\")\n",
    "    print(result.stderr)\n",
    "    \n",
    "    return {\"lint\":result.stdout}"
   ]
  },
  {
   "cell_type": "markdown",
   "metadata": {},
   "source": [
    "## 7. Review Playbook\n",
    "\n",
    "Uses the `reviewer_agent` to review the playbook, taking into account the Control-M job, playbook, and lint feedback. Returns structured feedback."
   ]
  },
  {
   "cell_type": "code",
   "execution_count": 128,
   "metadata": {},
   "outputs": [],
   "source": [
    "from prompt.review_prompt import DEFAULT_SYS_REVIEW_PROMPT\n",
    "from utils.general.helpers import get_current_utc_datetime\n",
    "\n",
    "def reviewer_agent(controlm_job: str, playbook_yaml: str, lint: str = \"\"):\n",
    "    reviewer_agent = RoleAgent(\n",
    "        role=\"REVIEWER_AGENT\",\n",
    "        ollama_service=ollama_service,\n",
    "        sys_prompt=DEFAULT_SYS_REVIEW_PROMPT.format(\n",
    "            controlm_job=controlm_job,\n",
    "            lint=lint,\n",
    "            datetime=get_current_utc_datetime(),\n",
    "        ),\n",
    "    )\n",
    "\n",
    "    reviewer_req = f\"\"\"Validate this playbook: {playbook_yaml}\"\"\"\n",
    "\n",
    "    response = reviewer_agent.work(user_request=reviewer_req)\n",
    "\n",
    "    revision_json = json.loads(response[\"REVIEWER_AGENT_response\"].content)\n",
    "\n",
    "    return {\"feedback\": json.dumps(revision_json, indent=4)}"
   ]
  },
  {
   "cell_type": "markdown",
   "metadata": {},
   "source": [
    "## 8. Conditional Workflow Check\n",
    "\n",
    "Determines if the playbook is valid based on feedback. If valid, it ends the workflow; otherwise, it reverts to converting the job."
   ]
  },
  {
   "cell_type": "code",
   "execution_count": 129,
   "metadata": {},
   "outputs": [],
   "source": [
    "from langgraph.graph import END\n",
    "\n",
    "def should_continue(state: MultiAgentGraphState):\n",
    "    \n",
    "    feedback_dict = json.loads(state[\"feedback\"][-1].content)\n",
    "    status = feedback_dict[\"status\"]\n",
    "\n",
    "    if status == \"valid\":\n",
    "        return END\n",
    "    else:\n",
    "        return \"convert_job\""
   ]
  },
  {
   "cell_type": "markdown",
   "metadata": {},
   "source": [
    "## 9. Create the Multi-Agent Graph Workflow\n",
    "\n",
    "Creates the flow of the multi-agent graph, linking conversion, linting, and review nodes. Defines conditional transitions based on the review status."
   ]
  },
  {
   "cell_type": "code",
   "execution_count": 130,
   "metadata": {},
   "outputs": [],
   "source": [
    "from langgraph.graph import StateGraph, START, END\n",
    "\n",
    "\n",
    "def create_graph() -> StateGraph:\n",
    "    graph = StateGraph(MultiAgentGraphState)\n",
    "\n",
    "    graph.add_node(\n",
    "        \"convert_job\",\n",
    "        lambda state: convert_agent(\n",
    "            user_req=f\"\"\"Convert this Control-M Job to an Ansible playbook. {state['job']}\"\"\",\n",
    "            feedback=state[\"feedback\"][-1].content if state[\"feedback\"] else None,\n",
    "        ),\n",
    "    )\n",
    "\n",
    "    graph.add_node(\n",
    "        \"ansible_lint\", ansible_lint\n",
    "    )\n",
    "\n",
    "    graph.add_node(\n",
    "        \"review_playbook\",\n",
    "        lambda state: reviewer_agent(\n",
    "            controlm_job=state[\"job\"],\n",
    "            playbook_yaml=state[\"playbook\"][-1].content,\n",
    "            lint=state[\"lint\"][-1].content,\n",
    "        ),\n",
    "    )\n",
    "\n",
    "    # Define the flow of the graph\n",
    "    graph.add_edge(START, \"convert_job\")\n",
    "    graph.add_edge(\"convert_job\", \"ansible_lint\")\n",
    "    graph.add_edge(\"ansible_lint\", \"review_playbook\")\n",
    "    graph.add_conditional_edges(\n",
    "        \"review_playbook\", should_continue, [\"convert_job\", END]\n",
    "    )\n",
    "\n",
    "    return graph"
   ]
  },
  {
   "cell_type": "markdown",
   "metadata": {},
   "source": [
    "## 10. Initialize Memory and Compile Workflow\n",
    "\n",
    "Initializes an in-memory database to store workflow checkpoints. Then, compiles the multi-agent graph into a runnable workflow."
   ]
  },
  {
   "cell_type": "code",
   "execution_count": 131,
   "metadata": {},
   "outputs": [
    {
     "name": "stdout",
     "output_type": "stream",
     "text": [
      "Graph and workflow created.\n"
     ]
    }
   ],
   "source": [
    "from memory.sqlite_saver import initialize_memory\n",
    "\n",
    "memory = initialize_memory(\":memory:\")\n",
    "\n",
    "config = {\"configurable\": {\"thread_id\": \"1\"}}\n",
    "dict_inputs = {\"job\": controlm_job}\n",
    "\n",
    "# Create the graph and compile the workflow\n",
    "graph = create_graph()\n",
    "workflow = graph.compile(checkpointer=memory)\n",
    "print(\"Graph and workflow created.\")"
   ]
  },
  {
   "cell_type": "markdown",
   "metadata": {},
   "source": [
    "## 11. Execute Workflow and Track Progress\n",
    "\n",
    "Executes the compiled workflow with a set number of iterations. Prints output with colored status updates, showing the current state of the workflow at each step."
   ]
  },
  {
   "cell_type": "code",
   "execution_count": 132,
   "metadata": {},
   "outputs": [
    {
     "name": "stdout",
     "output_type": "stream",
     "text": [
      "\u001b[34m\n",
      "\"JobName\": {\n",
      "    \"Type\" : \"Job:Command\",\n",
      "    \"Command\" : \"echo hello\",\n",
      "    \"PreCommand\": \"echo before running main command\",\n",
      "    \"PostCommand\": \"echo after running main command\",\n",
      "    \"Host\" : \"myhost.mycomp.com\",\n",
      "    \"RunAs\" : \"user1\"  \n",
      "}\n",
      "\u001b[0m\n",
      "\u001b[33m- become: true\n",
      "  become_user: user1\n",
      "  gather_facts: false\n",
      "  hosts: myhost.mycomp.com\n",
      "  tasks:\n",
      "  - name: pre command\n",
      "    shell: echo 'before running main command'\n",
      "  - name: main command\n",
      "    shell: echo hello\n",
      "  - name: post command\n",
      "    shell: echo 'after running main command'\n",
      "\u001b[0m\n",
      "Standard Output:\n",
      "\u001b]8;id=851535;https://ansible.readthedocs.io/projects/lint/rules/name/\u001b\\\u001b[1;91mname[play]\u001b[0m\u001b]8;;\u001b\\\u001b[2m:\u001b[0m \u001b[91mAll plays should be named.\u001b[0m\n",
      "\u001b[34mdata/playbook.yaml\u001b[0m:1\n",
      "\n",
      "\u001b]8;id=539323;https://ansible.readthedocs.io/projects/lint/rules/command-instead-of-shell/\u001b\\\u001b[1;91mcommand-instead-of-shell\u001b[0m\u001b]8;;\u001b\\\u001b[2m:\u001b[0m \u001b[91mUse shell only when shell functionality is required.\u001b[0m\n",
      "\u001b[34mdata/playbook.yaml\u001b[0m:6 \u001b[2mTask/Handler: pre command\u001b[0m\n",
      "\n",
      "\u001b]8;id=591385;https://ansible.readthedocs.io/projects/lint/rules/fqcn/\u001b\\\u001b[1;91mfqcn[action-core]\u001b[0m\u001b]8;;\u001b\\\u001b[2m:\u001b[0m \u001b[91mUse FQCN for builtin module actions (shell).\u001b[0m\n",
      "\u001b[34mdata/playbook.yaml\u001b[0m:6 \u001b[2mUse `ansible.builtin.shell` or `ansible.legacy.shell` instead.\u001b[0m\n",
      "\n",
      "\u001b]8;id=167763;https://ansible.readthedocs.io/projects/lint/rules/name/\u001b\\\u001b[1;91mname[casing]\u001b[0m\u001b]8;;\u001b\\\u001b[2m:\u001b[0m \u001b[91mAll names should start with an uppercase letter.\u001b[0m\n",
      "\u001b[34mdata/playbook.yaml\u001b[0m:6 \u001b[2mTask/Handler: pre command\u001b[0m\n",
      "\n",
      "\u001b]8;id=668297;https://ansible.readthedocs.io/projects/lint/rules/no-changed-when/\u001b\\\u001b[1;91mno-changed-when\u001b[0m\u001b]8;;\u001b\\\u001b[2m:\u001b[0m \u001b[91mCommands should not change things if nothing needs doing.\u001b[0m\n",
      "\u001b[34mdata/playbook.yaml\u001b[0m:6 \u001b[2mTask/Handler: pre command\u001b[0m\n",
      "\n",
      "\u001b]8;id=514597;https://ansible.readthedocs.io/projects/lint/rules/yaml/\u001b\\\u001b[1;91myaml[indentation]\u001b[0m\u001b]8;;\u001b\\\u001b[2m:\u001b[0m \u001b[91mWrong indentation: expected at least 3\u001b[0m\n",
      "\u001b[34mdata/playbook.yaml\u001b[0m:6\n",
      "\n",
      "\u001b]8;id=398028;https://ansible.readthedocs.io/projects/lint/rules/command-instead-of-shell/\u001b\\\u001b[1;91mcommand-instead-of-shell\u001b[0m\u001b]8;;\u001b\\\u001b[2m:\u001b[0m \u001b[91mUse shell only when shell functionality is required.\u001b[0m\n",
      "\u001b[34mdata/playbook.yaml\u001b[0m:8 \u001b[2mTask/Handler: main command\u001b[0m\n",
      "\n",
      "\u001b]8;id=94151;https://ansible.readthedocs.io/projects/lint/rules/fqcn/\u001b\\\u001b[1;91mfqcn[action-core]\u001b[0m\u001b]8;;\u001b\\\u001b[2m:\u001b[0m \u001b[91mUse FQCN for builtin module actions (shell).\u001b[0m\n",
      "\u001b[34mdata/playbook.yaml\u001b[0m:8 \u001b[2mUse `ansible.builtin.shell` or `ansible.legacy.shell` instead.\u001b[0m\n",
      "\n",
      "\u001b]8;id=207169;https://ansible.readthedocs.io/projects/lint/rules/name/\u001b\\\u001b[1;91mname[casing]\u001b[0m\u001b]8;;\u001b\\\u001b[2m:\u001b[0m \u001b[91mAll names should start with an uppercase letter.\u001b[0m\n",
      "\u001b[34mdata/playbook.yaml\u001b[0m:8 \u001b[2mTask/Handler: main command\u001b[0m\n",
      "\n",
      "\u001b]8;id=821284;https://ansible.readthedocs.io/projects/lint/rules/no-changed-when/\u001b\\\u001b[1;91mno-changed-when\u001b[0m\u001b]8;;\u001b\\\u001b[2m:\u001b[0m \u001b[91mCommands should not change things if nothing needs doing.\u001b[0m\n",
      "\u001b[34mdata/playbook.yaml\u001b[0m:8 \u001b[2mTask/Handler: main command\u001b[0m\n",
      "\n",
      "\u001b]8;id=433747;https://ansible.readthedocs.io/projects/lint/rules/command-instead-of-shell/\u001b\\\u001b[1;91mcommand-instead-of-shell\u001b[0m\u001b]8;;\u001b\\\u001b[2m:\u001b[0m \u001b[91mUse shell only when shell functionality is required.\u001b[0m\n",
      "\u001b[34mdata/playbook.yaml\u001b[0m:10 \u001b[2mTask/Handler: post command\u001b[0m\n",
      "\n",
      "\u001b]8;id=752245;https://ansible.readthedocs.io/projects/lint/rules/fqcn/\u001b\\\u001b[1;91mfqcn[action-core]\u001b[0m\u001b]8;;\u001b\\\u001b[2m:\u001b[0m \u001b[91mUse FQCN for builtin module actions (shell).\u001b[0m\n",
      "\u001b[34mdata/playbook.yaml\u001b[0m:10 \u001b[2mUse `ansible.builtin.shell` or `ansible.legacy.shell` instead.\u001b[0m\n",
      "\n",
      "\u001b]8;id=715430;https://ansible.readthedocs.io/projects/lint/rules/name/\u001b\\\u001b[1;91mname[casing]\u001b[0m\u001b]8;;\u001b\\\u001b[2m:\u001b[0m \u001b[91mAll names should start with an uppercase letter.\u001b[0m\n",
      "\u001b[34mdata/playbook.yaml\u001b[0m:10 \u001b[2mTask/Handler: post command\u001b[0m\n",
      "\n",
      "\u001b]8;id=357148;https://ansible.readthedocs.io/projects/lint/rules/no-changed-when/\u001b\\\u001b[1;91mno-changed-when\u001b[0m\u001b]8;;\u001b\\\u001b[2m:\u001b[0m \u001b[91mCommands should not change things if nothing needs doing.\u001b[0m\n",
      "\u001b[34mdata/playbook.yaml\u001b[0m:10 \u001b[2mTask/Handler: post command\u001b[0m\n",
      "\n",
      "\n",
      "\n",
      "Standard Error:\n",
      "\u001b[2mWARNING  Listing 14 violation(s) that are fatal\u001b[0m\n",
      "Read \u001b]8;id=553932;https://ansible.readthedocs.io/projects/lint/configuring/#ignoring-rules-for-entire-files\u001b\\documentation\u001b]8;;\u001b\\ for instructions on how to ignore specific rule violations.\n",
      "\n",
      "\u001b[3m                        Rule Violation Summary                        \u001b[0m\n",
      "\u001b[1m \u001b[0m\u001b[1mcount\u001b[0m\u001b[1m \u001b[0m\u001b[1mtag                     \u001b[0m\u001b[1m \u001b[0m\u001b[1mprofile   \u001b[0m\u001b[1m \u001b[0m\u001b[1mrule associated tags      \u001b[0m\u001b[1m \u001b[0m\n",
      "\u001b[31m \u001b[0m\u001b[31m    3\u001b[0m\u001b[31m \u001b[0m\u001b]8;id=812923;https://ansible.readthedocs.io/projects/lint/rules/command-instead-of-shell\u001b\\\u001b[31mcommand-instead-of-shell\u001b[0m\u001b]8;;\u001b\\\u001b[31m \u001b[0m\u001b[31mbasic     \u001b[0m\u001b[31m \u001b[0m\u001b[31mcommand-shell, idiom      \u001b[0m\u001b[31m \u001b[0m\n",
      "\u001b[31m \u001b[0m\u001b[31m    1\u001b[0m\u001b[31m \u001b[0m\u001b]8;id=666835;https://ansible.readthedocs.io/projects/lint/rules/name\u001b\\\u001b[31mname[play]\u001b[0m\u001b]8;;\u001b\\\u001b[31m              \u001b[0m\u001b[31m \u001b[0m\u001b[31mbasic     \u001b[0m\u001b[31m \u001b[0m\u001b[31midiom                     \u001b[0m\u001b[31m \u001b[0m\n",
      "\u001b[31m \u001b[0m\u001b[31m    1\u001b[0m\u001b[31m \u001b[0m\u001b]8;id=70493;https://ansible.readthedocs.io/projects/lint/rules/yaml\u001b\\\u001b[31myaml[indentation]\u001b[0m\u001b]8;;\u001b\\\u001b[31m       \u001b[0m\u001b[31m \u001b[0m\u001b[31mbasic     \u001b[0m\u001b[31m \u001b[0m\u001b[31mformatting, yaml          \u001b[0m\u001b[31m \u001b[0m\n",
      "\u001b[31m \u001b[0m\u001b[31m    3\u001b[0m\u001b[31m \u001b[0m\u001b]8;id=38924;https://ansible.readthedocs.io/projects/lint/rules/name\u001b\\\u001b[31mname[casing]\u001b[0m\u001b]8;;\u001b\\\u001b[31m            \u001b[0m\u001b[31m \u001b[0m\u001b[31mmoderate  \u001b[0m\u001b[31m \u001b[0m\u001b[31midiom                     \u001b[0m\u001b[31m \u001b[0m\n",
      "\u001b[31m \u001b[0m\u001b[31m    3\u001b[0m\u001b[31m \u001b[0m\u001b]8;id=253045;https://ansible.readthedocs.io/projects/lint/rules/no-changed-when\u001b\\\u001b[31mno-changed-when\u001b[0m\u001b]8;;\u001b\\\u001b[31m         \u001b[0m\u001b[31m \u001b[0m\u001b[31mshared    \u001b[0m\u001b[31m \u001b[0m\u001b[31mcommand-shell, idempotency\u001b[0m\u001b[31m \u001b[0m\n",
      "\u001b[31m \u001b[0m\u001b[31m    3\u001b[0m\u001b[31m \u001b[0m\u001b]8;id=112270;https://ansible.readthedocs.io/projects/lint/rules/fqcn\u001b\\\u001b[31mfqcn[action-core]\u001b[0m\u001b]8;;\u001b\\\u001b[31m       \u001b[0m\u001b[31m \u001b[0m\u001b[31mproduction\u001b[0m\u001b[31m \u001b[0m\u001b[31mformatting                \u001b[0m\u001b[31m \u001b[0m\n",
      "\n",
      "\u001b[1;31mFailed\u001b[0m: \u001b[1;36m14\u001b[0m \u001b[1;35mfailure\u001b[0m\u001b[1m(\u001b[0ms\u001b[1m)\u001b[0m, \u001b[1;36m0\u001b[0m \u001b[1;35mwarning\u001b[0m\u001b[1m(\u001b[0ms\u001b[1m)\u001b[0m on \u001b[1;36m1\u001b[0m files. Last profile that met the validation criteria was \u001b[32m'min'\u001b[0m.\n",
      "\n",
      "\u001b[32m{\n",
      "    \"status\": \"valid\",\n",
      "    \"comments\": \"\",\n",
      "    \"improvements\": [\n",
      "        \"The playbook does not have any issues, but consider using more descriptive names for tasks and handlers.\"\n",
      "    ]\n",
      "}\u001b[0m\n"
     ]
    }
   ],
   "source": [
    "from termcolor import colored\n",
    "\n",
    "# Define workflow parameters\n",
    "iterations = 10\n",
    "verbose = True\n",
    "\n",
    "limit = {\"recursion_limit\": iterations}\n",
    "\n",
    "print(colored(controlm_job,\"blue\"))\n",
    "\n",
    "# Execute the workflow and print state changes\n",
    "for event in workflow.stream(dict_inputs, config):\n",
    "    if verbose:\n",
    "        if \"convert_job\" in event:\n",
    "            print(colored(event[\"convert_job\"][\"playbook\"], \"yellow\"))\n",
    "        elif \"review_playbook\" in event:\n",
    "            dict = json.loads(event[\"review_playbook\"][\"feedback\"])\n",
    "            if(dict[\"status\"] == \"valid\"):\n",
    "                print(colored(event[\"review_playbook\"][\"feedback\"], \"green\"))\n",
    "            else:\n",
    "                print(colored(event[\"review_playbook\"][\"feedback\"], \"red\"))\n",
    "    else:\n",
    "        print(\"\\n\")"
   ]
  }
 ],
 "metadata": {
  "kernelspec": {
   "display_name": "Python 3",
   "language": "python",
   "name": "python3"
  },
  "language_info": {
   "codemirror_mode": {
    "name": "ipython",
    "version": 3
   },
   "file_extension": ".py",
   "mimetype": "text/x-python",
   "name": "python",
   "nbconvert_exporter": "python",
   "pygments_lexer": "ipython3",
   "version": "3.11.9"
  }
 },
 "nbformat": 4,
 "nbformat_minor": 2
}
